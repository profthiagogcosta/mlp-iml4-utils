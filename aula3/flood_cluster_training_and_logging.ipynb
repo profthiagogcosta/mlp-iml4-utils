{
 "cells": [
  {
   "cell_type": "markdown",
   "metadata": {},
   "source": [
    "## SETUP"
   ]
  },
  {
   "cell_type": "code",
   "execution_count": 1,
   "metadata": {},
   "outputs": [],
   "source": [
    "import warnings\n",
    "warnings.filterwarnings(\"ignore\")"
   ]
  },
  {
   "cell_type": "code",
   "execution_count": 2,
   "metadata": {},
   "outputs": [],
   "source": [
    "import numpy as np\n",
    "import matplotlib.pyplot as plt\n",
    "import pandas as pd\n",
    "import scipy.cluster.hierarchy as sch\n",
    "from sklearn.cluster import AgglomerativeClustering\n",
    "from sklearn.cluster import DBSCAN\n",
    "from sklearn import metrics\n",
    "import mlflow\n",
    "from math import radians, cos, sin, asin, sqrt\n",
    "\n",
    "\n",
    "sample_url = \"floods_geocoordinates.csv\"\n",
    "\n",
    "sample_data = pd.read_csv(sample_url)"
   ]
  },
  {
   "cell_type": "markdown",
   "metadata": {},
   "source": [
    "## TREINAMENTO"
   ]
  },
  {
   "cell_type": "code",
   "execution_count": 3,
   "metadata": {},
   "outputs": [],
   "source": [
    "#------------------------HAVERSINE DISTANCE------------------------\n",
    "def haversine(coordinates_1, coordinates_2):\n",
    "    \n",
    "    latitude_1, longitude_1 = coordinates_1\n",
    "    latitude_2, longitude_2 = coordinates_2\n",
    "    longitude_1, latitude_1, longitude_2, latitude_2 = map(radians, [longitude_1, latitude_1, longitude_2, latitude_2])\n",
    "\n",
    "    # haversine formula \n",
    "    distance_longitude = longitude_2 - longitude_1 # diference between two longitude\n",
    "    distance_latitude = latitude_2 - latitude_1    # diference between two latitude\n",
    "    \n",
    "    aux = sin(distance_latitude/2)**2 + cos(latitude_1) * cos(latitude_2) * sin(distance_longitude/2)**2\n",
    "    result = 2 * asin(sqrt(aux)) \n",
    "    \n",
    "    radius = 6371 # Radius of earth in kilometers\n",
    "    \n",
    "    return result * radius"
   ]
  },
  {
   "cell_type": "code",
   "execution_count": 4,
   "metadata": {},
   "outputs": [],
   "source": [
    "from scipy.spatial.distance import pdist, squareform\n",
    "\n",
    "sample_data = sample_data[['latitude', 'longitude']]\n",
    "\n",
    "#---------------------DISTANCE MATRIX---------------------\n",
    "distance_matrix = squareform(pdist(sample_data, (lambda u,v: haversine(u,v))))\n",
    "\n",
    "#---------------------CLUSTERS AGGLOMERATIVE - COMPLETE---------------------\n",
    "agglomerative_clustering = AgglomerativeClustering(n_clusters = None, affinity='precomputed', linkage='complete', distance_threshold=0.9, compute_full_tree=True)  \n",
    "rotulo_agglomerative = agglomerative_clustering.fit(distance_matrix)\n"
   ]
  },
  {
   "cell_type": "markdown",
   "metadata": {},
   "source": [
    "## VALIDAÇÃO"
   ]
  },
  {
   "cell_type": "code",
   "execution_count": 5,
   "metadata": {},
   "outputs": [
    {
     "name": "stdout",
     "output_type": "stream",
     "text": [
      "silhoutte_metric:  0.6255070649341068\n",
      "calinski_harabasz_metric:  6237.508216167444\n",
      "davies_bouldin_metric:  0.3603617663490956\n"
     ]
    }
   ],
   "source": [
    "#---------------------MÉTRICAS---------------------\n",
    "silhoutte_metric = metrics.silhouette_score(distance_matrix, rotulo_agglomerative.labels_)\n",
    "print(\"silhoutte_metric: \", silhoutte_metric)\n",
    "calinski_harabasz_metric = metrics.calinski_harabasz_score(distance_matrix, rotulo_agglomerative.labels_)\n",
    "print(\"calinski_harabasz_metric: \", calinski_harabasz_metric)\n",
    "davies_bouldin_metric = metrics.davies_bouldin_score(distance_matrix, rotulo_agglomerative.labels_)\n",
    "print(\"davies_bouldin_metric: \", davies_bouldin_metric)"
   ]
  },
  {
   "cell_type": "markdown",
   "metadata": {},
   "source": [
    "## VERSIONAMENTO"
   ]
  },
  {
   "cell_type": "code",
   "execution_count": 6,
   "metadata": {},
   "outputs": [
    {
     "data": {
      "text/plain": [
       "'14/12/2024 - 00:10:58'"
      ]
     },
     "execution_count": 6,
     "metadata": {},
     "output_type": "execute_result"
    }
   ],
   "source": [
    "from datetime import datetime\n",
    "\n",
    "now = datetime.now()\n",
    "\n",
    "current_time = now.strftime(\"%d/%m/%Y - %H:%M:%S\")\n",
    "current_time"
   ]
  },
  {
   "cell_type": "code",
   "execution_count": 7,
   "metadata": {},
   "outputs": [
    {
     "data": {
      "text/plain": [
       "<Experiment: artifact_location='mlflow-artifacts:/1', creation_time=1734145744440, experiment_id='1', last_update_time=1734145744440, lifecycle_stage='active', name='flood_areas_identifier', tags={}>"
      ]
     },
     "execution_count": 7,
     "metadata": {},
     "output_type": "execute_result"
    }
   ],
   "source": [
    "mlflow.set_tracking_uri('http://localhost:5001/')\n",
    "mlflow.set_experiment(f'flood_areas_identifier')"
   ]
  },
  {
   "cell_type": "code",
   "execution_count": 8,
   "metadata": {},
   "outputs": [
    {
     "name": "stderr",
     "output_type": "stream",
     "text": [
      "2024/12/14 00:10:58 WARNING mlflow.sklearn: Model was missing function: predict. Not logging python_function flavor!\n"
     ]
    },
    {
     "name": "stdout",
     "output_type": "stream",
     "text": [
      "{'n_clusters': None, 'affinity': 'precomputed', 'linkage': 'complete', 'distance_threshold': 100, 'compute_full_tree': True}\n",
      "{'num_generated_clusters': 506, 'silhouette': 0.6456451698205722, 'calinski_harabasz': 320821.95671159064, 'davies_bouldin_metric': 0.08448774763158479}\n"
     ]
    },
    {
     "name": "stderr",
     "output_type": "stream",
     "text": [
      "2024/12/14 00:11:03 WARNING mlflow.sklearn: Model was missing function: predict. Not logging python_function flavor!\n"
     ]
    },
    {
     "name": "stdout",
     "output_type": "stream",
     "text": [
      "{'n_clusters': None, 'affinity': 'precomputed', 'linkage': 'complete', 'distance_threshold': 200, 'compute_full_tree': True}\n",
      "{'num_generated_clusters': 434, 'silhouette': 0.6432629106826596, 'calinski_harabasz': 65414.09020961858, 'davies_bouldin_metric': 0.13232032099940952}\n"
     ]
    },
    {
     "name": "stderr",
     "output_type": "stream",
     "text": [
      "2024/12/14 00:11:06 WARNING mlflow.sklearn: Model was missing function: predict. Not logging python_function flavor!\n"
     ]
    },
    {
     "name": "stdout",
     "output_type": "stream",
     "text": [
      "{'n_clusters': None, 'affinity': 'precomputed', 'linkage': 'complete', 'distance_threshold': 300, 'compute_full_tree': True}\n",
      "{'num_generated_clusters': 374, 'silhouette': 0.637188536958003, 'calinski_harabasz': 29248.006338425355, 'davies_bouldin_metric': 0.18035678420214135}\n"
     ]
    },
    {
     "name": "stderr",
     "output_type": "stream",
     "text": [
      "2024/12/14 00:11:08 WARNING mlflow.sklearn: Model was missing function: predict. Not logging python_function flavor!\n"
     ]
    },
    {
     "name": "stdout",
     "output_type": "stream",
     "text": [
      "{'n_clusters': None, 'affinity': 'precomputed', 'linkage': 'complete', 'distance_threshold': 400, 'compute_full_tree': True}\n",
      "{'num_generated_clusters': 325, 'silhouette': 0.6422741295454057, 'calinski_harabasz': 18049.26736773855, 'davies_bouldin_metric': 0.23849659285162952}\n"
     ]
    },
    {
     "name": "stderr",
     "output_type": "stream",
     "text": [
      "2024/12/14 00:11:12 WARNING mlflow.sklearn: Model was missing function: predict. Not logging python_function flavor!\n"
     ]
    },
    {
     "name": "stdout",
     "output_type": "stream",
     "text": [
      "{'n_clusters': None, 'affinity': 'precomputed', 'linkage': 'complete', 'distance_threshold': 500, 'compute_full_tree': True}\n",
      "{'num_generated_clusters': 287, 'silhouette': 0.6275432197373685, 'calinski_harabasz': 11797.753517548437, 'davies_bouldin_metric': 0.2860023604898106}\n"
     ]
    },
    {
     "name": "stderr",
     "output_type": "stream",
     "text": [
      "2024/12/14 00:11:15 WARNING mlflow.sklearn: Model was missing function: predict. Not logging python_function flavor!\n"
     ]
    },
    {
     "name": "stdout",
     "output_type": "stream",
     "text": [
      "{'n_clusters': None, 'affinity': 'precomputed', 'linkage': 'complete', 'distance_threshold': 600, 'compute_full_tree': True}\n",
      "{'num_generated_clusters': 256, 'silhouette': 0.63366160352704, 'calinski_harabasz': 9366.019105304522, 'davies_bouldin_metric': 0.31667014442800334}\n"
     ]
    },
    {
     "name": "stderr",
     "output_type": "stream",
     "text": [
      "2024/12/14 00:11:18 WARNING mlflow.sklearn: Model was missing function: predict. Not logging python_function flavor!\n"
     ]
    },
    {
     "name": "stdout",
     "output_type": "stream",
     "text": [
      "{'n_clusters': None, 'affinity': 'precomputed', 'linkage': 'complete', 'distance_threshold': 700, 'compute_full_tree': True}\n",
      "{'num_generated_clusters': 234, 'silhouette': 0.633091393611812, 'calinski_harabasz': 8224.676595377652, 'davies_bouldin_metric': 0.33473168773430717}\n"
     ]
    },
    {
     "name": "stderr",
     "output_type": "stream",
     "text": [
      "2024/12/14 00:11:21 WARNING mlflow.sklearn: Model was missing function: predict. Not logging python_function flavor!\n"
     ]
    },
    {
     "name": "stdout",
     "output_type": "stream",
     "text": [
      "{'n_clusters': None, 'affinity': 'precomputed', 'linkage': 'complete', 'distance_threshold': 800, 'compute_full_tree': True}\n",
      "{'num_generated_clusters': 217, 'silhouette': 0.6303548435533345, 'calinski_harabasz': 7275.816355435488, 'davies_bouldin_metric': 0.3527423029615411}\n"
     ]
    },
    {
     "name": "stderr",
     "output_type": "stream",
     "text": [
      "2024/12/14 00:11:24 WARNING mlflow.sklearn: Model was missing function: predict. Not logging python_function flavor!\n"
     ]
    },
    {
     "name": "stdout",
     "output_type": "stream",
     "text": [
      "{'n_clusters': None, 'affinity': 'precomputed', 'linkage': 'complete', 'distance_threshold': 900, 'compute_full_tree': True}\n",
      "{'num_generated_clusters': 199, 'silhouette': 0.6255070649341068, 'calinski_harabasz': 6237.508216167444, 'davies_bouldin_metric': 0.3603617663490956}\n"
     ]
    },
    {
     "name": "stderr",
     "output_type": "stream",
     "text": [
      "2024/12/14 00:11:28 WARNING mlflow.sklearn: Model was missing function: predict. Not logging python_function flavor!\n"
     ]
    },
    {
     "name": "stdout",
     "output_type": "stream",
     "text": [
      "{'n_clusters': None, 'affinity': 'precomputed', 'linkage': 'complete', 'distance_threshold': 1000, 'compute_full_tree': True}\n",
      "{'num_generated_clusters': 183, 'silhouette': 0.6220386455000728, 'calinski_harabasz': 5525.159166869797, 'davies_bouldin_metric': 0.3675144582800715}\n"
     ]
    },
    {
     "name": "stderr",
     "output_type": "stream",
     "text": [
      "2024/12/14 00:11:30 WARNING mlflow.sklearn: Model was missing function: predict. Not logging python_function flavor!\n"
     ]
    },
    {
     "name": "stdout",
     "output_type": "stream",
     "text": [
      "{'n_clusters': None, 'affinity': 'precomputed', 'linkage': 'complete', 'distance_threshold': 1100, 'compute_full_tree': True}\n",
      "{'num_generated_clusters': 172, 'silhouette': 0.6038880737529144, 'calinski_harabasz': 4772.1663687048995, 'davies_bouldin_metric': 0.41736905845777844}\n"
     ]
    },
    {
     "name": "stderr",
     "output_type": "stream",
     "text": [
      "2024/12/14 00:11:32 WARNING mlflow.sklearn: Model was missing function: predict. Not logging python_function flavor!\n"
     ]
    },
    {
     "name": "stdout",
     "output_type": "stream",
     "text": [
      "{'n_clusters': None, 'affinity': 'precomputed', 'linkage': 'complete', 'distance_threshold': 1200, 'compute_full_tree': True}\n",
      "{'num_generated_clusters': 158, 'silhouette': 0.5869519761189761, 'calinski_harabasz': 4114.094689937569, 'davies_bouldin_metric': 0.4573280673982022}\n"
     ]
    },
    {
     "name": "stderr",
     "output_type": "stream",
     "text": [
      "2024/12/14 00:11:35 WARNING mlflow.sklearn: Model was missing function: predict. Not logging python_function flavor!\n"
     ]
    },
    {
     "name": "stdout",
     "output_type": "stream",
     "text": [
      "{'n_clusters': None, 'affinity': 'precomputed', 'linkage': 'complete', 'distance_threshold': 1300, 'compute_full_tree': True}\n",
      "{'num_generated_clusters': 151, 'silhouette': 0.5888104614104508, 'calinski_harabasz': 4043.4187548152804, 'davies_bouldin_metric': 0.46798412136560263}\n"
     ]
    }
   ],
   "source": [
    "distance_threshold_list = [100,200,300,400,500,600,700,800,900,1000,1100,1200,1300]\n",
    "\n",
    "for i in distance_threshold_list:\n",
    "\n",
    "    run_name = f'floods_identifier_distance_threshold_{i}'\n",
    "\n",
    "    # Start run\n",
    "    mlflow.start_run(run_name=run_name)\n",
    "\n",
    "    #---------------------CLUSTERS AGGLOMERATIVE - WARD---------------------\n",
    "    agglomerative_clustering = AgglomerativeClustering(n_clusters = None, metric='precomputed', linkage='complete', distance_threshold=i/1000, compute_full_tree=True)  \n",
    "    agglomerative_clustering = agglomerative_clustering.fit(distance_matrix)\n",
    "\n",
    "    silhoutte_metric = metrics.silhouette_score(distance_matrix, agglomerative_clustering.labels_)\n",
    "    calinski_harabasz_metric = metrics.calinski_harabasz_score(distance_matrix, agglomerative_clustering.labels_)\n",
    "    davies_bouldin_metric = metrics.davies_bouldin_score(distance_matrix, agglomerative_clustering.labels_)\n",
    "\n",
    "    parametros = {\n",
    "        \"n_clusters\": None,\n",
    "        \"affinity\": 'precomputed',\n",
    "        \"linkage\": \"complete\",\n",
    "        \"distance_threshold\": i,\n",
    "        \"compute_full_tree\": True,\n",
    "    }\n",
    "\n",
    "    print(parametros)\n",
    "\n",
    "    metricas = {\n",
    "        \"num_generated_clusters\": len(set(agglomerative_clustering.labels_)),\n",
    "        \"silhouette\": silhoutte_metric,\n",
    "        \"calinski_harabasz\": calinski_harabasz_metric,\n",
    "        \"davies_bouldin_metric\": davies_bouldin_metric,\n",
    "    }\n",
    "\n",
    "    print(metricas)\n",
    "\n",
    "    mlflow.set_tag(\"data\", current_time)\n",
    "    mlflow.log_params(parametros)\n",
    "    mlflow.log_metrics(metricas)\n",
    "\n",
    "    mlflow.sklearn.log_model(agglomerative_clustering, \"agglomerative_clustering\")\n",
    "\n",
    "    mlflow.end_run()"
   ]
  }
 ],
 "metadata": {
  "kernelspec": {
   "display_name": "3.10.2",
   "language": "python",
   "name": "python3"
  },
  "language_info": {
   "codemirror_mode": {
    "name": "ipython",
    "version": 3
   },
   "file_extension": ".py",
   "mimetype": "text/x-python",
   "name": "python",
   "nbconvert_exporter": "python",
   "pygments_lexer": "ipython3",
   "version": "3.10.2"
  },
  "orig_nbformat": 4
 },
 "nbformat": 4,
 "nbformat_minor": 2
}
